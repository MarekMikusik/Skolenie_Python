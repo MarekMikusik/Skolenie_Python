{
 "cells": [
  {
   "cell_type": "markdown",
   "id": "6999ca1f",
   "metadata": {},
   "source": [
    "# 🐍Zaklady programovania python"
   ]
  },
  {
   "cell_type": "markdown",
   "id": "58bc37a8",
   "metadata": {},
   "source": [
    "## Print"
   ]
  },
  {
   "cell_type": "code",
   "execution_count": null,
   "id": "8b8085e3",
   "metadata": {},
   "outputs": [],
   "source": [
    "# -*- coding: utf-8 -*-"
   ]
  },
  {
   "cell_type": "code",
   "execution_count": null,
   "id": "ebd08866",
   "metadata": {},
   "outputs": [],
   "source": [
    "# Toto je jednoriadkovy komentar"
   ]
  },
  {
   "cell_type": "code",
   "execution_count": null,
   "id": "058ac076",
   "metadata": {},
   "outputs": [],
   "source": [
    "print(\"Ahoj Python\")"
   ]
  },
  {
   "cell_type": "code",
   "execution_count": null,
   "id": "39f89700",
   "metadata": {},
   "outputs": [],
   "source": [
    "# ctrl + / zakomentuje viac riadkov naraz."
   ]
  },
  {
   "cell_type": "code",
   "execution_count": null,
   "id": "535c4d79",
   "metadata": {
    "scrolled": true
   },
   "outputs": [],
   "source": [
    "\"\"\" \n",
    "Toto je docs scring.. proste viacriad\n",
    "kova dokumentacia k programu\n",
    "\n",
    "\"\"\""
   ]
  },
  {
   "cell_type": "code",
   "execution_count": null,
   "id": "d841a9fa",
   "metadata": {},
   "outputs": [],
   "source": [
    "print(__doc__)"
   ]
  },
  {
   "cell_type": "markdown",
   "id": "4efefdaf",
   "metadata": {},
   "source": [
    "# # II. Datove typy, premenne"
   ]
  },
  {
   "cell_type": "code",
   "execution_count": null,
   "id": "0318797c",
   "metadata": {},
   "outputs": [],
   "source": [
    "# Bool / Boolean Logicka premenna\n",
    "# nazovPremennej = hodnota\n",
    "jeSkladom = True\n",
    "print(\"Hodnota je: \",jeSkladom)\n",
    "print(\"Typ premennej je: \",type(jeSkladom))"
   ]
  },
  {
   "cell_type": "code",
   "execution_count": null,
   "id": "b1f69c0d",
   "metadata": {},
   "outputs": [],
   "source": [
    "# str/string retazec\n",
    "nazov_produkt = \"Kurz Python\"\n",
    "print(\"Hodnota je: \",nazov_produkt)\n",
    "print(\"Typ premennej je: \",type(nazov_produkt))"
   ]
  },
  {
   "cell_type": "code",
   "execution_count": null,
   "id": "bad02f53",
   "metadata": {
    "scrolled": true
   },
   "outputs": [],
   "source": [
    "# int/integer cele cisla\n",
    "pocet_jablk = 13\n",
    "print(\"Hodnota je: \",pocet_jablk)\n",
    "print(\"Typ premennej je: \",type(pocet_jablk))\n",
    "\n",
    "# float/realne cisla\n",
    "mzda_programator = 1689.56\n",
    "print(\"Hodnota je: \",mzda_programator)\n",
    "print(\"Typ premennej je: \",type(mzda_programator))\n",
    "\n"
   ]
  },
  {
   "cell_type": "markdown",
   "id": "8525742c",
   "metadata": {},
   "source": [
    "# III. Importy, datetime"
   ]
  },
  {
   "cell_type": "markdown",
   "id": "1fde34d0",
   "metadata": {},
   "source": [
    "import datetime\n",
    "import time\n",
    "#print(help(datetime))\n",
    "#print(time)\n",
    "dnes_je = datetime.datetime.now()\n",
    "print(\"Dnes je\", dnes_je)\n"
   ]
  },
  {
   "cell_type": "markdown",
   "id": "4edfd239",
   "metadata": {},
   "source": [
    "# IV. Vstupy a pretypovanie (casting)"
   ]
  },
  {
   "cell_type": "code",
   "execution_count": null,
   "id": "a53042e6",
   "metadata": {},
   "outputs": [],
   "source": [
    "# meno_pouzivatel = input(\"Ako sa volas? -->\")\n",
    "# print(\"Ahoj\",meno_pouzivatel, \"😀\")\n",
    "\n",
    "mzda_ocakavana = input(\"Zadajte hodnotu, ocakavanej mzdy: \")\n",
    "print(\"Hodnota je\", mzda_ocakavana, \"Typ je: \", type(mzda_ocakavana))\n",
    "\n",
    "mzda_ocakavana = int(mzda_ocakavana) # int cele cislo\n",
    "print(\"Hodnota je\", mzda_ocakavana, \"Typ je: \", type(mzda_ocakavana))\n",
    "\n",
    "mzda_ocakavana = float(mzda_ocakavana) # float realne cislo cize s desatinnou bodkou\n",
    "print(\"Hodnota je\", mzda_ocakavana, \"Typ je: \", type(mzda_ocakavana))\n",
    "\n",
    "mzda_ocakavana = str(mzda_ocakavana) # str string retazec\n",
    "print(\"Hodnota je\", mzda_ocakavana, \"Typ je: \", type(mzda_ocakavana))\n",
    "\n",
    "mzda_ocakavana = bool(mzda_ocakavana) # vzdy to bude true, iba ako to bude 0, alebo None, vtedy to bude false\n",
    "print(\"Hodnota je\", mzda_ocakavana, \"Typ je: \", type(mzda_ocakavana))\n",
    "\n",
    "mzda = mzda_ocakavana\n",
    "mzda_bool=bool(mzda)\n",
    "\n",
    "print(\"Hodnota je\", mzda_bool, \"Typ je: \", type(mzda_bool))\n"
   ]
  },
  {
   "cell_type": "markdown",
   "id": "8f00d8b0",
   "metadata": {},
   "source": [
    "# V. Operacie, funkcie, math modul"
   ]
  },
  {
   "cell_type": "code",
   "execution_count": null,
   "id": "5eada9e0",
   "metadata": {},
   "outputs": [],
   "source": [
    "print (2**5) # dve na piatu\n",
    "print (5/2) # klasicke delenie\n",
    "print (5//2) # celociselne delenie\n",
    "print (5%2) # delenie so zvyskom (modulo)"
   ]
  },
  {
   "cell_type": "markdown",
   "id": "6a28e574",
   "metadata": {},
   "source": [
    "# VI. Zoznamy (lists), Tice (Tuple)"
   ]
  },
  {
   "cell_type": "code",
   "execution_count": null,
   "id": "61498347",
   "metadata": {},
   "outputs": [],
   "source": [
    "zoznam_farieb = [\"cierna\", \"biela\", \"modra\", \"cervena\"]\n",
    "print(\"Hodnota je\", zoznam_farieb, \"Typ je: \", type(zoznam_farieb))\n",
    "\n",
    "zoznam_osob = list(\"SLOVENSKO\")\n",
    "print(\"Hodnota je\", zoznam_osob, \"Typ je: \", type(zoznam_osob))\n",
    "\n",
    "zoznam_miezd = [980.23, 1256.41, 350.91, 1980.23]\n",
    "print(\"Hodnota je\", zoznam_miezd, \"Typ je: \", type(zoznam_miezd))\n",
    "\n",
    "zoznam_cisla = [1, 2, 3, 5, 6, 7, 8, 9]\n",
    "print(\"Najvacsia hodnota:\", max(zoznam_cisla))\n",
    "print(\"Najmensia hodnota:\", min(zoznam_cisla))\n",
    "print(\"Sucet hodnot:\", sum(zoznam_cisla))\n",
    "print(\"Pocet hodnot:\", len(zoznam_cisla))\n",
    "print(\"Zapkruhlenie:\", round(85.2))\n",
    "print(\"Zapkruhlenie na dve des. cisla :\", round(85.2456, 2))\n",
    "\n",
    "tica_cisel = (1,2,3,4,5)\n",
    "tica_zakaznici = (\"IBM\", \"Google\", \"Microsoft\")\n",
    "print(\"Hodnota je\", tica_cisel, \"Typ je: \", type(tica_cisel))\n",
    "print(\"Hodnota je\", tica_zakaznici, \"Typ je: \", type(tica_zakaznici))\n"
   ]
  },
  {
   "cell_type": "markdown",
   "id": "182657b5",
   "metadata": {},
   "source": [
    "# VII. Pip, package/moduly"
   ]
  },
  {
   "cell_type": "code",
   "execution_count": null,
   "id": "dffbbba8",
   "metadata": {},
   "outputs": [],
   "source": [
    "!pip install robot"
   ]
  },
  {
   "cell_type": "code",
   "execution_count": null,
   "id": "6a72e608",
   "metadata": {},
   "outputs": [],
   "source": [
    "!pip install django\n"
   ]
  },
  {
   "cell_type": "code",
   "execution_count": null,
   "id": "8127de29",
   "metadata": {},
   "outputs": [],
   "source": [
    "!pip install cowsay"
   ]
  },
  {
   "cell_type": "code",
   "execution_count": null,
   "id": "a8c6dc15",
   "metadata": {},
   "outputs": [],
   "source": [
    "!pip install pyttsx3"
   ]
  },
  {
   "cell_type": "code",
   "execution_count": null,
   "id": "24238de1",
   "metadata": {},
   "outputs": [],
   "source": [
    "!pip show pandas"
   ]
  },
  {
   "cell_type": "code",
   "execution_count": null,
   "id": "2a9e8f35",
   "metadata": {},
   "outputs": [],
   "source": [
    "!pip install gtts"
   ]
  },
  {
   "cell_type": "markdown",
   "id": "10183ad5",
   "metadata": {},
   "source": [
    "# VII. Balicky, Moduly"
   ]
  },
  {
   "cell_type": "code",
   "execution_count": 23,
   "id": "d32f57bf",
   "metadata": {},
   "outputs": [
    {
     "name": "stdout",
     "output_type": "stream",
     "text": [
      "<module 'math' (built-in)>\n",
      "-0.5440211108893698\n",
      "90\n",
      "89\n",
      "90\n",
      "84\n"
     ]
    }
   ],
   "source": [
    "# import math\n",
    "from math import ceil as zaokruhli_hore # z modlulu math naimportuje len funkciu ceil a as si to nazve podla potreby\n",
    "from math import sin as sinus\n",
    "import cowsay\n",
    "import pyttsx3\n",
    "\n",
    "print(math)\n",
    "print(sinus(10))\n",
    "print(math.ceil(89.1)) # zaokruhluje smerom hore\n",
    "print(math.floor(89.1)) # zaokruhluje smerom dole\n",
    "\n",
    "# pouzijem as zaokruhli_hore\n",
    "print(zaokruhli_hore(89.1)) # zaokruhluje smerom hore\n",
    "print (math.trunc(84.5656565))\n"
   ]
  },
  {
   "cell_type": "code",
   "execution_count": null,
   "id": "4d827200",
   "metadata": {},
   "outputs": [],
   "source": []
  }
 ],
 "metadata": {
  "kernelspec": {
   "display_name": "Python 3 (ipykernel)",
   "language": "python",
   "name": "python3"
  },
  "language_info": {
   "codemirror_mode": {
    "name": "ipython",
    "version": 3
   },
   "file_extension": ".py",
   "mimetype": "text/x-python",
   "name": "python",
   "nbconvert_exporter": "python",
   "pygments_lexer": "ipython3",
   "version": "3.11.5"
  }
 },
 "nbformat": 4,
 "nbformat_minor": 5
}
