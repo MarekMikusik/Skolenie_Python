{
 "cells": [
  {
   "cell_type": "code",
   "execution_count": null,
   "id": "d45da1bc",
   "metadata": {},
   "outputs": [],
   "source": [
    "import this"
   ]
  },
  {
   "cell_type": "markdown",
   "id": "876dd5ad",
   "metadata": {},
   "source": [
    "# I. Riadiace struktury"
   ]
  },
  {
   "cell_type": "markdown",
   "id": "54c33724",
   "metadata": {},
   "source": [
    "1. if, else, elif - vetvenie, rozodovani"
   ]
  },
  {
   "cell_type": "markdown",
   "id": "701f6e8a",
   "metadata": {},
   "source": [
    "2. for - cyklus, opakovanie"
   ]
  },
  {
   "cell_type": "markdown",
   "id": "2c23c4e9",
   "metadata": {},
   "source": [
    "3. while - cyklus, opakovanie, brak, continue"
   ]
  },
  {
   "cell_type": "markdown",
   "id": "0549d8c3",
   "metadata": {},
   "source": [
    "# II. Struktura if"
   ]
  },
  {
   "cell_type": "code",
   "execution_count": null,
   "id": "1c4588a4",
   "metadata": {},
   "outputs": [],
   "source": [
    "vek = abs(float(input(\"Kolko mas rokov? --> \"))) ## vstup klavesnice, prehodenie string na float, teda aj desatinne cisla a zaroven abs, ted minusove cisla da na abslolutne\n",
    "vek_zaokruhlene = round(vek) # desatinne cislo float zaokruhli funkciou round \n",
    "print(\"Mas\",vek_zaokruhlene, \"rokov\")\n",
    "# if vek_zaokruhlene >= 18:\n",
    "#     print(\"Dostanes vodicak.. \")\n",
    "# else:\n",
    "#     print(\"Nedostanes vodicak.. \")\n",
    "\n",
    "# if vek < 18:\n",
    "#     print(\"Nedostanes vodicak...\")\n",
    "# elif vek < 90:\n",
    "#     print(\"Dostanes vodicak...\")\n",
    "# else:\n",
    "#     print(\"Nedostanes vodicak...\")\n",
    "\n",
    "if ((vek >=18) and (vek < 90)):\n",
    "    print(\"Dostanes vodicak...\")\n",
    "else:\n",
    "    print(\"Nedostanes vodicak..\")\n",
    "    \n",
    "if vek == 18:\n",
    "    print(\"Gratulujem, uz si dospely\")\n",
    "    pass # pass znamena nic, supluje nam v tejto implementacii napr. print..\n",
    "    \n",
    "# = priradenie\n",
    "a = 3\n",
    "pocet_jablk = 352\n",
    "\n",
    "# == porovnanie, operator rovnosti, vystup je True alebo False\n",
    "print(\"\\nPorovnanie \\nrovnost\")\n",
    "print (a == 3)\n",
    "print (a == 4)\n",
    "\n",
    "# != operator nerovnosti, teda opak == \n",
    "print(\"\\nPorovnanie \\nNErovnost\")\n",
    "print (a != 3)\n",
    "print (a != 4)\n"
   ]
  },
  {
   "cell_type": "code",
   "execution_count": null,
   "id": "a219cdc5",
   "metadata": {
    "scrolled": true
   },
   "outputs": [],
   "source": []
  },
  {
   "cell_type": "code",
   "execution_count": null,
   "id": "9e0017a8",
   "metadata": {},
   "outputs": [],
   "source": [
    "\n",
    "    "
   ]
  },
  {
   "cell_type": "markdown",
   "id": "4a5b2b20",
   "metadata": {},
   "source": [
    "# III. Logicke operatory"
   ]
  },
  {
   "cell_type": "code",
   "execution_count": null,
   "id": "90985efa",
   "metadata": {},
   "outputs": [],
   "source": [
    "True and True"
   ]
  },
  {
   "cell_type": "code",
   "execution_count": null,
   "id": "5cf47877",
   "metadata": {},
   "outputs": [],
   "source": [
    "# a - and (logicky. sucin * )\n",
    "# alebo - or (log. sucet + )\n",
    "# negacia - not\n",
    "\n",
    "# True = Log. 1\n",
    "# False = Log. 0\n",
    "\n",
    "print (\"\\nAND - SUCIN *\")\n",
    "print(\"True and True and True = \",True and True and True )\n",
    "print(\"False and True and True = \", False and True and True)\n",
    "\n",
    "print (\"\\nOR - SUCET +\")\n",
    "print (\"True or True = \",True or True)\n",
    "print (\"True or True or True = \",True or True or True)\n",
    "print (\"True or False or True = \" , True or False or True)\n",
    "print(\"False or False or False = \", False or False or False)\n",
    "\n",
    "print (\"\\nNOT - Negacia\")\n",
    "print (\"not True or True = \",(not(True or True)))\n",
    "print (\"not True or True or True = \",(not(True or True or True)))\n",
    "print (\"not True or False or True = \" , (not(True or False or True)))\n",
    "print(\"not False or False or False = \", (not(False or False or False)))\n",
    "\n"
   ]
  },
  {
   "cell_type": "markdown",
   "id": "37f5a1d7",
   "metadata": {},
   "source": [
    "# IV. Zoznamy, Range, Operator in"
   ]
  },
  {
   "cell_type": "code",
   "execution_count": 168,
   "id": "f1417513",
   "metadata": {},
   "outputs": [
    {
     "name": "stdout",
     "output_type": "stream",
     "text": [
      "Celkovy pocet zamestnancov ---> 7\n",
      "\n",
      "1. zamestnanec ----> Ivan\n",
      "2. zamestnanec ----> Monika\n",
      "\n",
      "Posledny zamestnanec  -1 ----> Ursula\n",
      "Predposledny zamestnanec  -2 ----> Milan\n",
      "[0, 1, 2, 3, 4]\n",
      "[-10, -9, -8, -7, -6, -5, -4, -3, -2, -1, 0, 1, 2, 3, 4, 5, 6, 7, 8, 9, 10]\n",
      "True\n",
      "False\n",
      "True\n"
     ]
    }
   ],
   "source": [
    "zoznam_zamestnanci = [\"Ivan\", \"Monika\", \"Maria\", \"Tomas\", \"Peter\", \"Milan\", \"Ursula\"]\n",
    "print(\"Celkovy pocet zamestnancov --->\",len(zoznam_zamestnanci))\n",
    "print (\"\\n1. zamestnanec ---->\", zoznam_zamenstnanci[0])\n",
    "print (\"2. zamestnanec ---->\", zoznam_zamenstnanci[1])\n",
    "print (\"\\nPosledny zamestnanec  -1 ---->\", zoznam_zamenstnanci[-1])\n",
    "print (\"Predposledny zamestnanec  -2 ---->\", zoznam_zamenstnanci[-2])\n",
    "\n",
    "## Range\n",
    "\n",
    "rozsah = range(5)\n",
    "print(list(rozsah))\n",
    "\n",
    "rozsah = range(-10, 11, 1) # od do skok\n",
    "print(list(rozsah))\n",
    "\n",
    "## Operator in\n",
    "\n",
    "print (\"o\" in \"Karol\")\n",
    "print (\"M\" in \"Karol\")\n",
    "\n",
    "zoznam_zamestnanci = [\"Ivan\", \"Monika\", \"Maria\", \"Tomas\", \"Peter\", \"Milan\", \"Ursula\"]\n",
    "print(\"Ivan\" in zoznam_zamestnanci)\n"
   ]
  },
  {
   "cell_type": "markdown",
   "id": "6b3d9903",
   "metadata": {},
   "source": [
    "# V. Struktura for (cyklus)"
   ]
  },
  {
   "cell_type": "code",
   "execution_count": null,
   "id": "9040a4b6",
   "metadata": {},
   "outputs": [],
   "source": [
    "# for i in range(5):\n",
    "    print(i, \". Ahoj svet\")\n",
    "\n",
    "print(\"\\nrange(1, 6)\")\n",
    "    \n",
    "for i in range(1,6):\n",
    "    print(i, \". Ahoj svet\")\n",
    "\n",
    "## vytlaci zoznam zamestnancov    \n",
    "zoznam_zamestnanci = [\"Ivan\", \"Monika\", \"Maria\", \"Tomas\", \"Peter\", \"Milan\", \"Ursula\"]\n",
    "for i in zoznam_zamestnanci:\n",
    "    print(i)\n",
    "print (type(i))\n",
    "\n",
    "\n",
    "sucet = 0\n",
    "rozsah = range(1,10)\n",
    "pocet_hodnot = len(list(rozsah))\n",
    "\n",
    "for i in rozsah:\n",
    "    sucet = sucet + i\n",
    "    \n",
    "print(\"\\nsucet:\", sucet)\n",
    "print(list(rozsah))\n",
    "print(\"Pocet hodnot:\", pocet_hodnot)\n",
    "print(\"Priemer hodnot:\", sucet / pocet_hodnot)\n",
    "\n"
   ]
  },
  {
   "cell_type": "markdown",
   "id": "f068319d",
   "metadata": {},
   "source": [
    "# VI.Operatory"
   ]
  },
  {
   "cell_type": "code",
   "execution_count": 189,
   "id": "528fe052",
   "metadata": {},
   "outputs": [],
   "source": [
    "# Unarne - 1 (not)\n",
    "# Binarne - 2 (* / and or)\n",
    "# Terarne - 3 (if else)\n",
    "# python list comprehension"
   ]
  },
  {
   "cell_type": "code",
   "execution_count": 188,
   "id": "3ab18dbd",
   "metadata": {},
   "outputs": [
    {
     "data": {
      "text/plain": [
       "'true'"
      ]
     },
     "execution_count": 188,
     "metadata": {},
     "output_type": "execute_result"
    }
   ],
   "source": [
    "\"true\" if True else False\n"
   ]
  },
  {
   "cell_type": "markdown",
   "id": "3b7422f2",
   "metadata": {},
   "source": [
    "# VIII: Reverzne prechadzanie, enumeracia"
   ]
  },
  {
   "cell_type": "code",
   "execution_count": 198,
   "id": "8cb9fd44",
   "metadata": {},
   "outputs": [
    {
     "name": "stdout",
     "output_type": "stream",
     "text": [
      "\n",
      "ZZoznam zamestnancov\n",
      "['Ivan', 'Monika', 'Maria', 'Tomas', 'Peter', 'Milan', 'Ursula']\n",
      "\n",
      "Reverzny zoznam zamestnancov:\n",
      "Ursula\n",
      "\n",
      "Cislovany zoznam zamestnancov:\n",
      "Milan\n",
      "\n",
      "Cislovany zoznam zamestnancov:\n",
      "Peter\n",
      "\n",
      "Cislovany zoznam zamestnancov:\n",
      "Tomas\n",
      "\n",
      "Cislovany zoznam zamestnancov:\n",
      "Maria\n",
      "\n",
      "Cislovany zoznam zamestnancov:\n",
      "Monika\n",
      "\n",
      "Cislovany zoznam zamestnancov:\n",
      "Ivan\n",
      "\n",
      "Cislovany zoznam zamestnancov:\n",
      "1 --> Ivan\n",
      "2 --> Monika\n",
      "3 --> Maria\n",
      "4 --> Tomas\n",
      "5 --> Peter\n",
      "6 --> Milan\n",
      "7 --> Ursula\n"
     ]
    }
   ],
   "source": [
    "print(\"\\nZZoznam zamestnancov\")\n",
    "zoznam_zamestnanci = [\"Ivan\", \"Monika\", \"Maria\", \"Tomas\", \"Peter\", \"Milan\", \"Ursula\"]\n",
    "print(zoznam_zamestnanci)\n",
    "\n",
    "print(\"\\nReverzny zoznam zamestnancov:\")\n",
    "for zamestnanec in reversed(zoznam_zamestnanci):\n",
    "    print (zamestnanec)\n",
    "    \n",
    "    print(\"\\nCislovany zoznam zamestnancov:\")\n",
    "for i, zamestnanec in enumerate(zoznam_zamestnanci):\n",
    "    print (i+1, \"-->\", zamestnanec)"
   ]
  },
  {
   "cell_type": "markdown",
   "id": "d75a9fb8",
   "metadata": {},
   "source": [
    "# IX. Struktura while (cyklus)"
   ]
  },
  {
   "cell_type": "code",
   "execution_count": 208,
   "id": "0158649a",
   "metadata": {},
   "outputs": [
    {
     "name": "stdout",
     "output_type": "stream",
     "text": [
      "1 Ahoj Python\n",
      "2 Ahoj Python\n",
      "3 Ahoj Python\n",
      "4 Ahoj Python\n",
      "5 Ahoj Python\n",
      "6 Ahoj Python\n",
      "7 Ahoj Python\n",
      "8 Ahoj Python\n",
      "9 Ahoj Python\n",
      "10 Ahoj Python\n",
      "\n",
      "Sme na konci...\n",
      "Chcem zit nonstop v roku  2022\n",
      "Chcem zit nonstop v roku  2023\n",
      "Chcem zit nonstop v roku  2024\n",
      "Chcem zit nonstop v roku  2025\n",
      "Chcem zit nonstop v roku  2026\n",
      "Chcem zit nonstop v roku  2027\n",
      "Chcem zit nonstop v roku  2028\n",
      "Chcem zit nonstop v roku  2029\n",
      "Koncime\n"
     ]
    }
   ],
   "source": [
    "i = 1\n",
    "while i <= 10:\n",
    "    print(i, \"Ahoj Python\")\n",
    "# Zakladny zapis\n",
    "    #i = i + 1\n",
    "    # Skrateny zapis\n",
    "    # Incrementacia - zvysenie hodnoty o 1 i++\n",
    "    i += 1\n",
    "    # Dekrementacia - znizenie hodnoty o 1 i--\n",
    "    \n",
    "print(\"\\nSme na konci...\")\n",
    "\n",
    "# Priklad nekonecneho programu, zacyklenie, nekonecna slucka.\n",
    "#while True:\n",
    " #   print(\"chcem zit nonstop\")\n",
    "    \n",
    "rok = 2022\n",
    "while True:\n",
    "    print (\"Chcem zit nonstop v roku \", rok)\n",
    "    rok += 1\n",
    "    \n",
    "    if rok >=2030:\n",
    "        print(\"Koncime\")\n",
    "        break"
   ]
  },
  {
   "cell_type": "markdown",
   "id": "16502b76",
   "metadata": {},
   "source": [
    "# X. Continue"
   ]
  },
  {
   "cell_type": "code",
   "execution_count": 209,
   "id": "a9246221",
   "metadata": {},
   "outputs": [
    {
     "name": "stdout",
     "output_type": "stream",
     "text": [
      "1\n",
      "3\n",
      "5\n",
      "7\n",
      "9\n",
      "11\n",
      "13\n",
      "15\n",
      "17\n",
      "19\n"
     ]
    }
   ],
   "source": [
    "for i in range(0,20):\n",
    "    if i % 2 == 0:\n",
    "        continue\n",
    "    print(i)"
   ]
  },
  {
   "cell_type": "markdown",
   "id": "a5aa4740",
   "metadata": {},
   "source": [
    "# XI. Praca so subormi"
   ]
  },
  {
   "cell_type": "code",
   "execution_count": 222,
   "id": "287585db",
   "metadata": {},
   "outputs": [
    {
     "name": "stdout",
     "output_type": "stream",
     "text": [
      "Som zapisal...\n"
     ]
    }
   ],
   "source": [
    "import datetime\n",
    "dnes = str(datetime.datetime.now())\n",
    "subor = open(\"logy.txt\",\"a\")\n",
    "subor.write(dnes + \" -- Dnes je pekny den\\n\")\n",
    "print(\"Som zapisal...\")\n",
    "subor.close()"
   ]
  },
  {
   "cell_type": "code",
   "execution_count": 229,
   "id": "a6ad4d67",
   "metadata": {},
   "outputs": [
    {
     "ename": "AttributeError",
     "evalue": "'_io.TextIOWrapper' object has no attribute 'read1'",
     "output_type": "error",
     "traceback": [
      "\u001b[1;31m---------------------------------------------------------------------------\u001b[0m",
      "\u001b[1;31mAttributeError\u001b[0m                            Traceback (most recent call last)",
      "Cell \u001b[1;32mIn[229], line 3\u001b[0m\n\u001b[0;32m      1\u001b[0m subor \u001b[38;5;241m=\u001b[39m \u001b[38;5;28mopen\u001b[39m(\u001b[38;5;124m\"\u001b[39m\u001b[38;5;124mlogy.txt\u001b[39m\u001b[38;5;124m\"\u001b[39m, \u001b[38;5;124m\"\u001b[39m\u001b[38;5;124mr\u001b[39m\u001b[38;5;124m\"\u001b[39m)\n\u001b[1;32m----> 3\u001b[0m obsah_suboru \u001b[38;5;241m=\u001b[39m subor\u001b[38;5;241m.\u001b[39mread1()\n\u001b[0;32m      5\u001b[0m \u001b[38;5;28mprint\u001b[39m(\u001b[38;5;124m\"\u001b[39m\u001b[38;5;124mObsah suboru:\u001b[39m\u001b[38;5;130;01m\\n\u001b[39;00m\u001b[38;5;124m\"\u001b[39m, obsah_suboru)\n\u001b[0;32m      7\u001b[0m subor\u001b[38;5;241m.\u001b[39mclose()\n",
      "\u001b[1;31mAttributeError\u001b[0m: '_io.TextIOWrapper' object has no attribute 'read1'"
     ]
    }
   ],
   "source": [
    "subor = open(\"logy.txt\", \"r\")\n",
    "\n",
    "obsah_suboru = subor.read()\n",
    "\n",
    "print(\"Obsah suboru:\\n\", obsah_suboru)\n",
    "\n",
    "subor.close()"
   ]
  },
  {
   "cell_type": "code",
   "execution_count": 230,
   "id": "aef2572f",
   "metadata": {},
   "outputs": [
    {
     "name": "stdout",
     "output_type": "stream",
     "text": [
      "3.11.5 | packaged by Anaconda, Inc. | (main, Sep 11 2023, 13:26:23) [MSC v.1916 64 bit (AMD64)]\n"
     ]
    }
   ],
   "source": [
    "import sys\n",
    "\n",
    "print(sys.version)"
   ]
  },
  {
   "cell_type": "markdown",
   "id": "c16208d5",
   "metadata": {},
   "source": [
    "# Slovniky (dict) v pare kluc:hodno a mnoziny (sets)"
   ]
  },
  {
   "cell_type": "code",
   "execution_count": 245,
   "id": "3edd913f",
   "metadata": {},
   "outputs": [
    {
     "name": "stdout",
     "output_type": "stream",
     "text": [
      "Obsah: {'Mama': 'Monika', 'Otec': 'Jozef', 'Brat': 'Michal', 'Teta': 'Anna'} typ: <class 'dict'>\n",
      "1. v slovniku: Monika\n",
      "Teta: Anna\n",
      "Kluc je: Mama ma hodnotu Monika\n",
      "Kluc je: Otec ma hodnotu Jozef\n",
      "Kluc je: Brat ma hodnotu Michal\n",
      "Kluc je: Teta ma hodnotu Anna\n",
      "Obsah: {'Ivan': 'programator', 'Monika': 'analytik', 'Maria': 'personalista', 'Tomas': 'programator', 'Peter': 'analytik', 'Milan': 'personalista'} typ: <class 'dict'>\n",
      "Obsah: {0: 'programator', 1: 'analytik', 2: 'personalista', 3: 'programator', 4: 'analytik', 5: 'personalista'} typ: <class 'dict'>\n",
      "Obsah: {'Tlaciaren', 'Mysky', 'Notebook'} typ: <class 'set'>\n"
     ]
    }
   ],
   "source": [
    "# zoznam/list []\n",
    "# tica/tupple ()\n",
    "# slovnik / dict{}\n",
    "\n",
    "slovnik = {}\n",
    "slovnik = dict()\n",
    "\n",
    "# Paar Kluc : hodnota (key:value), asociativne polia/zoznamy\n",
    "# Kluc = index (vlastny)\n",
    "# JSON\n",
    "rodina = {\"Mama\" : \"Monika\", \"Otec\": \"Jozef\", \"Brat\" : \"Michal\", \"Teta\": \"Anna\"}\n",
    "print(\"Obsah:\", rodina, \"typ:\", type(rodina))\n",
    "print(\"1. v slovniku:\", rodina[\"Mama\"])\n",
    "print(\"Teta:\" , rodina[\"Teta\"])\n",
    "\n",
    "\n",
    "for k in rodina:\n",
    "    # print(\"Kluc je:\", k) # Vypise hodnotu key\n",
    "    print(\"Kluc je:\", k, \"ma hodnotu\", rodina[k]) # Vypise \"Kluc je: Teta ma hodnotu Anna\" atd..\n",
    "    \n",
    "\n",
    "zoznam_zamestnanci = [\"Ivan\", \"Monika\", \"Maria\", \"Tomas\", \"Peter\", \"Milan\", \"Ursula\"]\n",
    "pozicia = [\"programator\", \"analytik\", \"personalista\", \"programator\", \"analytik\", \"personalista\"]\n",
    "\n",
    "slovnik_zamestnanci_pozicie = dict(zip(zoznam_zamestnanci, pozicia))\n",
    "print(\"Obsah:\", slovnik_zamestnanci_pozicie, \"typ:\", type(slovnik_zamestnanci_pozicie))\n",
    "\n",
    "slovnik_pozicie_cislovane = dict(enumerate(pozicia))\n",
    "print(\"Obsah:\", slovnik_pozicie_cislovane, \"typ:\", type(slovnik_pozicie_cislovane))  \n",
    "\n",
    "mnozina_produkty = {\"Notebook\",\"Mysky\", \"Tlaciaren\"}\n",
    "print(\"Obsah:\", mnozina_produkty, \"typ:\", type(mnozina_produkty))"
   ]
  },
  {
   "cell_type": "markdown",
   "id": "64d34405",
   "metadata": {},
   "source": [
    "# XIII. Vlastne funkcie/podpogram (definicie)"
   ]
  },
  {
   "cell_type": "code",
   "execution_count": 12,
   "id": "c133e6bd",
   "metadata": {},
   "outputs": [
    {
     "name": "stdout",
     "output_type": "stream",
     "text": [
      "Ahoj\n",
      "None\n",
      "Ahoj Ing. Adam Sangala\n"
     ]
    }
   ],
   "source": [
    "def vypis_ahoj():\n",
    "   # \"\"\"Toto je dokumentacia k funkcii\"\"\"\n",
    "    print(\"Ahoj\")\n",
    "\n",
    "def vypis_cele_meno(titul, meno, priezvisko):\n",
    "    # capitalize sposobi, ze bude vzdy prve pismeno velke (a tym padom ostate male)\n",
    "    # strip sposobi ze odmaze medzere navyse z oboch stran\n",
    "    cele_meno = titul.strip().capitalize() + \" \" + meno.strip().capitalize() + \" \" + priezvisko.strip().capitalize()\n",
    "    print(\"Ahoj\", cele_meno)\n",
    "    \n",
    "    \n",
    "# Volanie funkcie/definicie    \n",
    "vypis_ahoj()\n",
    "print(vypis_ahoj.__doc__) #vypise dokumentaciu k definicii\n",
    "\n",
    "vypis_cele_meno(\"ING.    \", \"  ADAM  \", \"  sangala\")"
   ]
  },
  {
   "cell_type": "code",
   "execution_count": null,
   "id": "3aa29464",
   "metadata": {},
   "outputs": [],
   "source": []
  }
 ],
 "metadata": {
  "kernelspec": {
   "display_name": "Python 3 (ipykernel)",
   "language": "python",
   "name": "python3"
  },
  "language_info": {
   "codemirror_mode": {
    "name": "ipython",
    "version": 3
   },
   "file_extension": ".py",
   "mimetype": "text/x-python",
   "name": "python",
   "nbconvert_exporter": "python",
   "pygments_lexer": "ipython3",
   "version": "3.11.5"
  }
 },
 "nbformat": 4,
 "nbformat_minor": 5
}
